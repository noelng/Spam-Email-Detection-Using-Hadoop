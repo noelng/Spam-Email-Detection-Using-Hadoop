{
 "cells": [
  {
   "cell_type": "markdown",
   "id": "c6085432",
   "metadata": {},
   "source": [
    "### README\n",
    "Place this notebook and the raw dataset package in the same directory.  \n",
    "Extract the raw dataset using ...  \n",
    "```\n",
    "tar -zxf enron1.tar.gz\n",
    "```"
   ]
  },
  {
   "cell_type": "code",
   "execution_count": 1,
   "id": "323f0605",
   "metadata": {},
   "outputs": [],
   "source": [
    "import json\n",
    "import os\n",
    "import pandas\n",
    "import re\n",
    "import shutil\n",
    "import sys"
   ]
  },
  {
   "cell_type": "code",
   "execution_count": 2,
   "id": "0687db0d",
   "metadata": {},
   "outputs": [
    {
     "name": "stdout",
     "output_type": "stream",
     "text": [
      "Collecting pyarrow\n",
      "  Downloading pyarrow-10.0.1-cp38-cp38-win_amd64.whl (20.3 MB)\n",
      "Requirement already satisfied: numpy>=1.16.6 in z:\\anaconda3\\lib\\site-packages (from pyarrow) (1.20.1)\n",
      "Installing collected packages: pyarrow\n",
      "Successfully installed pyarrow-10.0.1\n"
     ]
    }
   ],
   "source": [
    "# Install dependencies\n",
    "!{sys.executable} -m pip install pyarrow"
   ]
  },
  {
   "cell_type": "code",
   "execution_count": 3,
   "id": "4c9d963a",
   "metadata": {},
   "outputs": [],
   "source": [
    "input_path = 'enron1'\n",
    "output_path = 'enron1_output'\n",
    "json_output_path = os.path.join(output_path, 'JSON')\n",
    "xml_output_path = os.path.join(output_path, 'XML')\n",
    "csv_output_path = os.path.join(output_path, 'CSV')\n",
    "parquet_output_path = os.path.join(output_path, 'PARQUET')"
   ]
  },
  {
   "cell_type": "code",
   "execution_count": 4,
   "id": "fe879047",
   "metadata": {},
   "outputs": [],
   "source": [
    "# Clean up\n",
    "shutil.rmtree(output_path)\n",
    "\n",
    "# Initialize\n",
    "os.makedirs(json_output_path)\n",
    "os.makedirs(xml_output_path)\n",
    "os.makedirs(csv_output_path)\n",
    "os.makedirs(parquet_output_path)"
   ]
  },
  {
   "cell_type": "code",
   "execution_count": 5,
   "id": "19b65abe",
   "metadata": {},
   "outputs": [],
   "source": [
    "def files_with(n):\n",
    "    for label in os.listdir(input_path):\n",
    "        file_path = os.path.join(input_path, label)\n",
    "        if not os.path.isdir(file_path):\n",
    "            continue\n",
    "        for name in os.listdir(file_path):\n",
    "            if name.startswith(n) and name.endswith('.txt'):\n",
    "                yield {\n",
    "                    'id': name.replace('.txt', ''),\n",
    "                    'label': label,\n",
    "                    'path': os.path.join(file_path, name)\n",
    "                }"
   ]
  },
  {
   "cell_type": "code",
   "execution_count": 6,
   "id": "f4c60169",
   "metadata": {},
   "outputs": [],
   "source": [
    "def sanitized_text(text):\n",
    "    # Remove all non-word characters\n",
    "    text = re.sub('\\W', ' ', text)\n",
    "    # Remove redundant whitespaces\n",
    "    text = re.sub('\\s{2,}', ' ', text)\n",
    "    return text"
   ]
  },
  {
   "cell_type": "markdown",
   "id": "d1eafacc",
   "metadata": {},
   "source": [
    "### 0. JSON"
   ]
  },
  {
   "cell_type": "code",
   "execution_count": 7,
   "id": "40776efc",
   "metadata": {},
   "outputs": [],
   "source": [
    "def dump_as_json_for_files_with(n):\n",
    "    for d in files_with(n):\n",
    "        \n",
    "        # Initialzie\n",
    "        data = { }\n",
    "        \n",
    "        # Read data\n",
    "        with open(d['path'], 'r', encoding='ISO-8859-1') as file:\n",
    "            data = {\n",
    "                'id': d['id'],\n",
    "                'label': d['label'],\n",
    "                'text': sanitized_text(file.read())\n",
    "            }\n",
    "        \n",
    "        # Proceed only if text is not empty\n",
    "        if len(data['text']) == 0:\n",
    "            continue\n",
    "        \n",
    "        # Export data\n",
    "        with open(os.path.join(json_output_path, d['id'] + '.json'), 'w') as file:\n",
    "            json.dump(data, file)"
   ]
  },
  {
   "cell_type": "code",
   "execution_count": 8,
   "id": "6d88c37f",
   "metadata": {},
   "outputs": [],
   "source": [
    "dump_as_json_for_files_with('0')"
   ]
  },
  {
   "cell_type": "markdown",
   "id": "020732ed",
   "metadata": {},
   "source": [
    "### 1. XML"
   ]
  },
  {
   "cell_type": "code",
   "execution_count": 9,
   "id": "31fde14a",
   "metadata": {},
   "outputs": [],
   "source": [
    "def dump_as_xml_for_files_with(n):\n",
    "    for d in files_with(n):\n",
    "        \n",
    "        # Initialzie\n",
    "        text = '';\n",
    "        \n",
    "        # Read data\n",
    "        with open(d['path'], 'r', encoding='ISO-8859-1') as file:\n",
    "            text = sanitized_text(file.read())\n",
    "        \n",
    "        # Proceed only if text is not empty\n",
    "        if len('text') == 0:\n",
    "            continue\n",
    "        \n",
    "        # Export data\n",
    "        with open(os.path.join(xml_output_path, d['id'] + '.xml'), 'w') as file:\n",
    "            file.write('<body>')\n",
    "            file.write('<id>')\n",
    "            file.write(d['id'])\n",
    "            file.write('</id>')\n",
    "            file.write('<label>')\n",
    "            file.write(d['label'])\n",
    "            file.write('</label>')\n",
    "            file.write('<text>')\n",
    "            file.write(text)\n",
    "            file.write('</text>')\n",
    "            file.write('</body>')"
   ]
  },
  {
   "cell_type": "code",
   "execution_count": 10,
   "id": "0bd93389",
   "metadata": {},
   "outputs": [],
   "source": [
    "dump_as_xml_for_files_with('1')"
   ]
  },
  {
   "cell_type": "markdown",
   "id": "5125ddb6",
   "metadata": {},
   "source": [
    "### 2. CSV"
   ]
  },
  {
   "cell_type": "code",
   "execution_count": 11,
   "id": "9a10cee0",
   "metadata": {},
   "outputs": [],
   "source": [
    "def dump_as_csv_for_files_with(n):\n",
    "    # Initialize\n",
    "    df = pandas.DataFrame(columns=['id', 'label', 'text'])\n",
    "    \n",
    "    for d in files_with(n):\n",
    "        \n",
    "        # Initialzie\n",
    "        data = { };\n",
    "        \n",
    "        # Read data\n",
    "        with open(d['path'], 'r', encoding='ISO-8859-1') as file:\n",
    "            data = {\n",
    "                'id': d['id'],\n",
    "                'label': d['label'],\n",
    "                'text': sanitized_text(file.read())\n",
    "            }\n",
    "        \n",
    "        # Proceed only if text is not empty\n",
    "        if len(data['text']) == 0:\n",
    "            continue\n",
    "        \n",
    "        df = df.append(data, ignore_index=True)\n",
    "    \n",
    "    # Export data\n",
    "    df.to_csv(os.path.join(csv_output_path, 'emails-' + n + '.csv'), index=False);"
   ]
  },
  {
   "cell_type": "code",
   "execution_count": 12,
   "id": "32697e79",
   "metadata": {},
   "outputs": [],
   "source": [
    "dump_as_csv_for_files_with('2')"
   ]
  },
  {
   "cell_type": "markdown",
   "id": "89dcda19",
   "metadata": {},
   "source": [
    "### 3. AVRO"
   ]
  },
  {
   "cell_type": "code",
   "execution_count": 13,
   "id": "36361f9d",
   "metadata": {},
   "outputs": [],
   "source": [
    "# To be transformed into AVRO format using Hive\n",
    "dump_as_csv_for_files_with('3')"
   ]
  },
  {
   "cell_type": "markdown",
   "id": "21443845",
   "metadata": {},
   "source": [
    "### 4. RCFILE"
   ]
  },
  {
   "cell_type": "code",
   "execution_count": 14,
   "id": "2abd2733",
   "metadata": {},
   "outputs": [],
   "source": [
    "# To be transformed into RCFILE format using Hive\n",
    "dump_as_csv_for_files_with('4')"
   ]
  },
  {
   "cell_type": "markdown",
   "id": "850bc7d7",
   "metadata": {},
   "source": [
    "### 5. PARQUET"
   ]
  },
  {
   "cell_type": "code",
   "execution_count": 15,
   "id": "664fea48",
   "metadata": {},
   "outputs": [],
   "source": [
    "def dump_as_parquet_for_files_with(n):\n",
    "    # Initialize\n",
    "    df = pandas.DataFrame(columns=['id', 'label', 'text'])\n",
    "    \n",
    "    for d in files_with(n):\n",
    "        \n",
    "        # Initialzie\n",
    "        data = { };\n",
    "        \n",
    "        # Read data\n",
    "        with open(d['path'], 'r', encoding='ISO-8859-1') as file:\n",
    "            data = {\n",
    "                'id': d['id'],\n",
    "                'label': d['label'],\n",
    "                'text': sanitized_text(file.read())\n",
    "            }\n",
    "        \n",
    "        # Proceed only if text is not empty\n",
    "        if len(data['text']) == 0:\n",
    "            continue\n",
    "        \n",
    "        df = df.append(data, ignore_index=True)\n",
    "    \n",
    "    # Export data\n",
    "    df.to_parquet(os.path.join(parquet_output_path, 'emails-' + n + '.parquet'));"
   ]
  },
  {
   "cell_type": "code",
   "execution_count": 16,
   "id": "41b425b4",
   "metadata": {},
   "outputs": [],
   "source": [
    "dump_as_parquet_for_files_with('5')"
   ]
  }
 ],
 "metadata": {
  "kernelspec": {
   "display_name": "Python 3.9.6 64-bit",
   "language": "python",
   "name": "python3"
  },
  "language_info": {
   "codemirror_mode": {
    "name": "ipython",
    "version": 3
   },
   "file_extension": ".py",
   "mimetype": "text/x-python",
   "name": "python",
   "nbconvert_exporter": "python",
   "pygments_lexer": "ipython3",
   "version": "3.9.6"
  },
  "vscode": {
   "interpreter": {
    "hash": "70dfa35f63874f98c7baadb0a685e89883abe16ef32e92e8d49544266737527a"
   }
  }
 },
 "nbformat": 4,
 "nbformat_minor": 5
}
